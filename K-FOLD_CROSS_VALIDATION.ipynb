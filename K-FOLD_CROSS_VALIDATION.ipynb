{
 "cells": [
  {
   "cell_type": "code",
   "execution_count": 26,
   "id": "67141242",
   "metadata": {},
   "outputs": [],
   "source": [
    "import json\n",
    "from sklearn.ensemble import RandomForestClassifier\n",
    "from sklearn.model_selection import GridSearchCV, StratifiedKFold, cross_val_predict\n",
    "from sklearn.metrics import classification_report, confusion_matrix, ConfusionMatrixDisplay\n",
    "import matplotlib.pyplot as plt\n",
    "import seaborn as sns\n",
    "import pandas as pd\n",
    "import joblib"
   ]
  },
  {
   "cell_type": "code",
   "execution_count": 29,
   "id": "6e9c443f",
   "metadata": {},
   "outputs": [],
   "source": [
    "# -------------------------------\n",
    "# Cargar dataset JSONL\n",
    "# -------------------------------\n",
    "def load_jsonl(file_path):\n",
    "    texts = []\n",
    "    labels = []\n",
    "    tipos = []\n",
    "    with open(file_path, 'r', encoding='utf-8') as f:\n",
    "        for line in f:\n",
    "            data = json.loads(line)\n",
    "            texts.append(data[\"texto\"])\n",
    "            labels.append(data[\"clase\"])\n",
    "            tipos.append(data[\"tipo\"])\n",
    "    return texts, labels, tipos"
   ]
  },
  {
   "cell_type": "code",
   "execution_count": 30,
   "id": "9ff7c611",
   "metadata": {},
   "outputs": [],
   "source": [
    "# Ruta del archivo jsonl\n",
    "file_path = 'capitulos_base_100_completo.jsonl'\n",
    "texts, labels, tipos = load_jsonl(file_path)"
   ]
  },
  {
   "cell_type": "code",
   "execution_count": 31,
   "id": "1ebcbfa7",
   "metadata": {},
   "outputs": [
    {
     "name": "stdout",
     "output_type": "stream",
     "text": [
      "\n",
      "Cantidad de textos por clase y tipo:\n",
      "    clase    tipo  cantidad\n",
      "0      ia  cuento        38\n",
      "1      ia   libro        34\n",
      "2  humano   libro        32\n",
      "3      ia  ensayo        32\n",
      "4  humano  ensayo        18\n",
      "5  humano  cuento        18\n"
     ]
    }
   ],
   "source": [
    "# -------------------------------\n",
    "# Métrica simple de cantidad por clase y tipo\n",
    "# -------------------------------\n",
    "df_conteo = pd.DataFrame({\n",
    "    \"clase\": labels,\n",
    "    \"tipo\": tipos\n",
    "})\n",
    "\n",
    "conteo = df_conteo.value_counts().reset_index(name='cantidad')\n",
    "\n",
    "print(\"\\nCantidad de textos por clase y tipo:\")\n",
    "print(conteo)"
   ]
  },
  {
   "cell_type": "code",
   "execution_count": 32,
   "id": "06fc0c08",
   "metadata": {},
   "outputs": [],
   "source": [
    "# -------------------------------\n",
    "# Cargar modelo BERT y tokenizer\n",
    "# -------------------------------\n",
    "from transformers import BertTokenizer, BertModel\n",
    "import torch\n",
    "import numpy as np\n",
    "\n",
    "tokenizer = BertTokenizer.from_pretrained('bert-base-uncased')\n",
    "bert_model = BertModel.from_pretrained('bert-base-uncased')\n",
    "\n",
    "def embed_texts(text_list):\n",
    "    embeddings = []\n",
    "    for text in text_list:\n",
    "        tokens = tokenizer(text, return_tensors='pt', truncation=True, padding=True, max_length=512)\n",
    "        with torch.no_grad():\n",
    "            outputs = bert_model(**tokens)\n",
    "        emb = outputs.pooler_output[0].numpy()\n",
    "        embeddings.append(emb)\n",
    "    return np.array(embeddings)\n",
    "\n",
    "X = embed_texts(texts)\n",
    "y = np.array(labels)"
   ]
  },
  {
   "cell_type": "code",
   "execution_count": 33,
   "id": "ce8f4a5b",
   "metadata": {},
   "outputs": [
    {
     "name": "stdout",
     "output_type": "stream",
     "text": [
      "Fitting 5 folds for each of 36 candidates, totalling 180 fits\n",
      "Mejores hiperparámetros: {'max_depth': None, 'min_samples_leaf': 1, 'min_samples_split': 5, 'n_estimators': 50}\n",
      "Mejor F1 macro promedio: 0.828499195988677\n"
     ]
    }
   ],
   "source": [
    "# -------------------------------\n",
    "# Entrenamiento con K-Fold Cross Validation y Grid Search\n",
    "# -------------------------------\n",
    "param_grid = {\n",
    "    \"n_estimators\": [50, 100, 200],\n",
    "    \"max_depth\": [None, 10, 20],\n",
    "    \"min_samples_split\": [2, 5],\n",
    "    \"min_samples_leaf\": [1, 2]\n",
    "}\n",
    "\n",
    "rf = RandomForestClassifier(random_state=42)\n",
    "cv = StratifiedKFold(n_splits=5, shuffle=True, random_state=42)\n",
    "\n",
    "grid_search = GridSearchCV(\n",
    "    estimator=rf,\n",
    "    param_grid=param_grid,\n",
    "    cv=cv,\n",
    "    scoring='f1_macro',\n",
    "    n_jobs=-1,\n",
    "    verbose=1\n",
    ")\n",
    "\n",
    "grid_search.fit(X, y)\n",
    "\n",
    "best_model = grid_search.best_estimator_\n",
    "best_params = grid_search.best_params_\n",
    "cv_score = grid_search.best_score_\n",
    "\n",
    "print(\"Mejores hiperparámetros:\", best_params)\n",
    "print(\"Mejor F1 macro promedio:\", cv_score)"
   ]
  },
  {
   "cell_type": "code",
   "execution_count": 34,
   "id": "25561235",
   "metadata": {},
   "outputs": [
    {
     "name": "stdout",
     "output_type": "stream",
     "text": [
      "\n",
      "Reporte de clasificación:\n",
      "              precision    recall  f1-score   support\n",
      "\n",
      "      humano       0.85      0.74      0.79        68\n",
      "          ia       0.84      0.91      0.88       104\n",
      "\n",
      "    accuracy                           0.84       172\n",
      "   macro avg       0.84      0.82      0.83       172\n",
      "weighted avg       0.84      0.84      0.84       172\n",
      "\n"
     ]
    },
    {
     "data": {
      "image/png": "[encoded data removed]",
      "text/plain": [
       "<Figure size 640x480 with 2 Axes>"
      ]
     },
     "metadata": {},
     "output_type": "display_data"
    }
   ],
   "source": [
    "# -------------------------------\n",
    "# Visualización de métricas y matriz de confusión\n",
    "# -------------------------------\n",
    "y_pred = cross_val_predict(best_model, X, y, cv=cv)\n",
    "\n",
    "print(\"\\nReporte de clasificación:\")\n",
    "print(classification_report(y, y_pred))\n",
    "\n",
    "cm = confusion_matrix(y, y_pred, labels=best_model.classes_)\n",
    "disp = ConfusionMatrixDisplay(confusion_matrix=cm, display_labels=best_model.classes_)\n",
    "disp.plot(cmap='Blues')\n",
    "plt.title(\"Matriz de Confusión (Promedio en Validación Cruzada)\")\n",
    "plt.show()"
   ]
  },
  {
   "cell_type": "code",
   "execution_count": 35,
   "id": "71451a5a",
   "metadata": {},
   "outputs": [
    {
     "data": {
      "text/plain": [
       "['modelo_random_forest_entrenado_k_fold.pkl']"
      ]
     },
     "execution_count": 35,
     "metadata": {},
     "output_type": "execute_result"
    }
   ],
   "source": [
    "# -------------------------------\n",
    "# Guardar modelo entrenado\n",
    "# -------------------------------\n",
    "joblib.dump(best_model, 'modelo_random_forest_entrenado_k_fold.pkl')"
   ]
  }
 ],
 "metadata": {
  "kernelspec": {
   "display_name": "venv",
   "language": "python",
   "name": "python3"
  },
  "language_info": {
   "codemirror_mode": {
    "name": "ipython",
    "version": 3
   },
   "file_extension": ".py",
   "mimetype": "text/x-python",
   "name": "python",
   "nbconvert_exporter": "python",
   "pygments_lexer": "ipython3",
   "version": "3.12.3"
  }
 },
 "nbformat": 4,
 "nbformat_minor": 5
}

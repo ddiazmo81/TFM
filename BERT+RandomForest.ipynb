{
 "cells": [
  {
   "cell_type": "markdown",
   "id": "581c6448",
   "metadata": {},
   "source": [
    "Instalar las librerías necesarias"
   ]
  },
  {
   "cell_type": "code",
   "execution_count": 1,
   "id": "adec3741",
   "metadata": {},
   "outputs": [
    {
     "name": "stdout",
     "output_type": "stream",
     "text": [
      "Requirement already satisfied: transformers in c:\\users\\ddiaz\\onedrive\\documentos\\universidad europea\\entregables\\tfm\\venv\\lib\\site-packages (4.51.3)\n",
      "Requirement already satisfied: scikit-learn in c:\\users\\ddiaz\\onedrive\\documentos\\universidad europea\\entregables\\tfm\\venv\\lib\\site-packages (1.6.1)\n",
      "Requirement already satisfied: pandas in c:\\users\\ddiaz\\onedrive\\documentos\\universidad europea\\entregables\\tfm\\venv\\lib\\site-packages (2.2.3)\n",
      "Requirement already satisfied: matplotlib in c:\\users\\ddiaz\\onedrive\\documentos\\universidad europea\\entregables\\tfm\\venv\\lib\\site-packages (3.10.1)\n",
      "Requirement already satisfied: seaborn in c:\\users\\ddiaz\\onedrive\\documentos\\universidad europea\\entregables\\tfm\\venv\\lib\\site-packages (0.13.2)\n",
      "Requirement already satisfied: tqdm in c:\\users\\ddiaz\\onedrive\\documentos\\universidad europea\\entregables\\tfm\\venv\\lib\\site-packages (4.67.1)\n",
      "Requirement already satisfied: filelock in c:\\users\\ddiaz\\onedrive\\documentos\\universidad europea\\entregables\\tfm\\venv\\lib\\site-packages (from transformers) (3.18.0)\n",
      "Requirement already satisfied: huggingface-hub<1.0,>=0.30.0 in c:\\users\\ddiaz\\onedrive\\documentos\\universidad europea\\entregables\\tfm\\venv\\lib\\site-packages (from transformers) (0.30.2)\n",
      "Requirement already satisfied: numpy>=1.17 in c:\\users\\ddiaz\\onedrive\\documentos\\universidad europea\\entregables\\tfm\\venv\\lib\\site-packages (from transformers) (2.2.5)\n",
      "Requirement already satisfied: packaging>=20.0 in c:\\users\\ddiaz\\onedrive\\documentos\\universidad europea\\entregables\\tfm\\venv\\lib\\site-packages (from transformers) (24.2)\n",
      "Requirement already satisfied: pyyaml>=5.1 in c:\\users\\ddiaz\\onedrive\\documentos\\universidad europea\\entregables\\tfm\\venv\\lib\\site-packages (from transformers) (6.0.2)\n",
      "Requirement already satisfied: regex!=2019.12.17 in c:\\users\\ddiaz\\onedrive\\documentos\\universidad europea\\entregables\\tfm\\venv\\lib\\site-packages (from transformers) (2024.11.6)\n",
      "Requirement already satisfied: requests in c:\\users\\ddiaz\\onedrive\\documentos\\universidad europea\\entregables\\tfm\\venv\\lib\\site-packages (from transformers) (2.32.3)\n",
      "Requirement already satisfied: tokenizers<0.22,>=0.21 in c:\\users\\ddiaz\\onedrive\\documentos\\universidad europea\\entregables\\tfm\\venv\\lib\\site-packages (from transformers) (0.21.1)\n",
      "Requirement already satisfied: safetensors>=0.4.3 in c:\\users\\ddiaz\\onedrive\\documentos\\universidad europea\\entregables\\tfm\\venv\\lib\\site-packages (from transformers) (0.5.3)\n",
      "Requirement already satisfied: fsspec>=2023.5.0 in c:\\users\\ddiaz\\onedrive\\documentos\\universidad europea\\entregables\\tfm\\venv\\lib\\site-packages (from huggingface-hub<1.0,>=0.30.0->transformers) (2025.3.2)\n",
      "Requirement already satisfied: typing-extensions>=3.7.4.3 in c:\\users\\ddiaz\\onedrive\\documentos\\universidad europea\\entregables\\tfm\\venv\\lib\\site-packages (from huggingface-hub<1.0,>=0.30.0->transformers) (4.13.2)\n",
      "Requirement already satisfied: scipy>=1.6.0 in c:\\users\\ddiaz\\onedrive\\documentos\\universidad europea\\entregables\\tfm\\venv\\lib\\site-packages (from scikit-learn) (1.15.2)\n",
      "Requirement already satisfied: joblib>=1.2.0 in c:\\users\\ddiaz\\onedrive\\documentos\\universidad europea\\entregables\\tfm\\venv\\lib\\site-packages (from scikit-learn) (1.4.2)\n",
      "Requirement already satisfied: threadpoolctl>=3.1.0 in c:\\users\\ddiaz\\onedrive\\documentos\\universidad europea\\entregables\\tfm\\venv\\lib\\site-packages (from scikit-learn) (3.6.0)\n",
      "Requirement already satisfied: python-dateutil>=2.8.2 in c:\\users\\ddiaz\\onedrive\\documentos\\universidad europea\\entregables\\tfm\\venv\\lib\\site-packages (from pandas) (2.9.0.post0)\n",
      "Requirement already satisfied: pytz>=2020.1 in c:\\users\\ddiaz\\onedrive\\documentos\\universidad europea\\entregables\\tfm\\venv\\lib\\site-packages (from pandas) (2025.2)\n",
      "Requirement already satisfied: tzdata>=2022.7 in c:\\users\\ddiaz\\onedrive\\documentos\\universidad europea\\entregables\\tfm\\venv\\lib\\site-packages (from pandas) (2025.2)\n",
      "Requirement already satisfied: contourpy>=1.0.1 in c:\\users\\ddiaz\\onedrive\\documentos\\universidad europea\\entregables\\tfm\\venv\\lib\\site-packages (from matplotlib) (1.3.2)\n",
      "Requirement already satisfied: cycler>=0.10 in c:\\users\\ddiaz\\onedrive\\documentos\\universidad europea\\entregables\\tfm\\venv\\lib\\site-packages (from matplotlib) (0.12.1)\n",
      "Requirement already satisfied: fonttools>=4.22.0 in c:\\users\\ddiaz\\onedrive\\documentos\\universidad europea\\entregables\\tfm\\venv\\lib\\site-packages (from matplotlib) (4.57.0)\n",
      "Requirement already satisfied: kiwisolver>=1.3.1 in c:\\users\\ddiaz\\onedrive\\documentos\\universidad europea\\entregables\\tfm\\venv\\lib\\site-packages (from matplotlib) (1.4.8)\n",
      "Requirement already satisfied: pillow>=8 in c:\\users\\ddiaz\\onedrive\\documentos\\universidad europea\\entregables\\tfm\\venv\\lib\\site-packages (from matplotlib) (11.2.1)\n",
      "Requirement already satisfied: pyparsing>=2.3.1 in c:\\users\\ddiaz\\onedrive\\documentos\\universidad europea\\entregables\\tfm\\venv\\lib\\site-packages (from matplotlib) (3.2.3)\n",
      "Requirement already satisfied: colorama in c:\\users\\ddiaz\\onedrive\\documentos\\universidad europea\\entregables\\tfm\\venv\\lib\\site-packages (from tqdm) (0.4.6)\n",
      "Requirement already satisfied: six>=1.5 in c:\\users\\ddiaz\\onedrive\\documentos\\universidad europea\\entregables\\tfm\\venv\\lib\\site-packages (from python-dateutil>=2.8.2->pandas) (1.17.0)\n",
      "Requirement already satisfied: charset-normalizer<4,>=2 in c:\\users\\ddiaz\\onedrive\\documentos\\universidad europea\\entregables\\tfm\\venv\\lib\\site-packages (from requests->transformers) (3.4.2)\n",
      "Requirement already satisfied: idna<4,>=2.5 in c:\\users\\ddiaz\\onedrive\\documentos\\universidad europea\\entregables\\tfm\\venv\\lib\\site-packages (from requests->transformers) (3.10)\n",
      "Requirement already satisfied: urllib3<3,>=1.21.1 in c:\\users\\ddiaz\\onedrive\\documentos\\universidad europea\\entregables\\tfm\\venv\\lib\\site-packages (from requests->transformers) (2.4.0)\n",
      "Requirement already satisfied: certifi>=2017.4.17 in c:\\users\\ddiaz\\onedrive\\documentos\\universidad europea\\entregables\\tfm\\venv\\lib\\site-packages (from requests->transformers) (2025.4.26)\n",
      "Note: you may need to restart the kernel to use updated packages.\n"
     ]
    }
   ],
   "source": [
    "pip install transformers scikit-learn pandas matplotlib seaborn tqdm"
   ]
  },
  {
   "cell_type": "markdown",
   "id": "4d4ba6a0",
   "metadata": {},
   "source": [
    "Comprobar que el archivo .jsonl es correcto"
   ]
  },
  {
   "cell_type": "code",
   "execution_count": 14,
   "id": "d3e46bf0",
   "metadata": {},
   "outputs": [],
   "source": [
    "import json\n",
    "\n",
    "with open(\"capitulos_base_100_completo.jsonl\", \"r\", encoding=\"utf-8\") as f:\n",
    "    for i, line in enumerate(f, 1):\n",
    "        try:\n",
    "            json.loads(line)\n",
    "        except Exception as e:\n",
    "            print(f\"❌ Error en la línea {i}:\\n{line}\\n{e}\\n\")"
   ]
  },
  {
   "cell_type": "markdown",
   "id": "3ac049a0",
   "metadata": {},
   "source": [
    "Cargar el archivo .jsonl"
   ]
  },
  {
   "cell_type": "code",
   "execution_count": 15,
   "id": "43a0e82a",
   "metadata": {},
   "outputs": [],
   "source": [
    "import pandas as pd\n",
    "\n",
    "# Cargar el JSONL en un DataFrame\n",
    "df = pd.read_json(\"capitulos_base_100_completo.jsonl\", lines=True)\n",
    "\n",
    "# Filtrar solo los que tengan texto y clase definidos\n",
    "df = df[df[\"texto\"].str.strip() != \"\"]\n",
    "df = df[df[\"clase\"].str.strip() != \"\"]"
   ]
  },
  {
   "cell_type": "markdown",
   "id": "0f38b579",
   "metadata": {},
   "source": [
    "Preparar los datos para BERT + Random Forest"
   ]
  },
  {
   "cell_type": "markdown",
   "id": "b457465f",
   "metadata": {},
   "source": [
    "1. Tokenización con BERT (bert-base-multilingual-cased es buena opción en español):"
   ]
  },
  {
   "cell_type": "code",
   "execution_count": 16,
   "id": "8b484aa7",
   "metadata": {},
   "outputs": [
    {
     "name": "stderr",
     "output_type": "stream",
     "text": [
      "c:\\Users\\ddiaz\\OneDrive\\Documentos\\UNIVERSIDAD EUROPEA\\ENTREGABLES\\TFM\\venv\\Lib\\site-packages\\tqdm\\auto.py:21: TqdmWarning: IProgress not found. Please update jupyter and ipywidgets. See https://ipywidgets.readthedocs.io/en/stable/user_install.html\n",
      "  from .autonotebook import tqdm as notebook_tqdm\n",
      "c:\\Users\\ddiaz\\OneDrive\\Documentos\\UNIVERSIDAD EUROPEA\\ENTREGABLES\\TFM\\venv\\Lib\\site-packages\\huggingface_hub\\file_download.py:144: UserWarning: `huggingface_hub` cache-system uses symlinks by default to efficiently store duplicated files but your machine does not support them in C:\\Users\\ddiaz\\.cache\\huggingface\\hub\\models--bert-base-multilingual-cased. Caching files will still work but in a degraded version that might require more space on your disk. This warning can be disabled by setting the `HF_HUB_DISABLE_SYMLINKS_WARNING` environment variable. For more details, see https://huggingface.co/docs/huggingface_hub/how-to-cache#limitations.\n",
      "To support symlinks on Windows, you either need to activate Developer Mode or to run Python as an administrator. In order to activate developer mode, see this article: https://docs.microsoft.com/en-us/windows/apps/get-started/enable-your-device-for-development\n",
      "  warnings.warn(message)\n"
     ]
    }
   ],
   "source": [
    "from transformers import BertTokenizer\n",
    "\n",
    "tokenizer = BertTokenizer.from_pretrained(\"bert-base-multilingual-cased\")\n",
    "\n",
    "# Codificar los textos para extraer embeddings CLS\n",
    "def tokenize_and_get_cls(text):\n",
    "    inputs = tokenizer(text, return_tensors=\"pt\", truncation=True, padding=\"max_length\", max_length=512)\n",
    "    return inputs"
   ]
  },
  {
   "cell_type": "markdown",
   "id": "41876a5d",
   "metadata": {},
   "source": [
    "2. Extraer embeddings BERT (modo sin fine-tune, solo para features):"
   ]
  },
  {
   "cell_type": "code",
   "execution_count": 18,
   "id": "7d262650",
   "metadata": {},
   "outputs": [
    {
     "name": "stderr",
     "output_type": "stream",
     "text": [
      "100%|██████████| 172/172 [00:34<00:00,  4.95it/s]\n"
     ]
    }
   ],
   "source": [
    "from transformers import BertModel\n",
    "import torch\n",
    "from tqdm import tqdm\n",
    "import numpy as np\n",
    "\n",
    "model = BertModel.from_pretrained(\"bert-base-multilingual-cased\")\n",
    "model.eval()\n",
    "\n",
    "def get_cls_embedding(text):\n",
    "    inputs = tokenizer(text, return_tensors=\"pt\", truncation=True, padding=\"max_length\", max_length=512)\n",
    "    with torch.no_grad():\n",
    "        outputs = model(**inputs)\n",
    "    cls_embedding = outputs.last_hidden_state[0][0]  # primer token CLS\n",
    "    return cls_embedding.numpy()\n",
    "\n",
    "# Aplicar a todos los textos\n",
    "X = []\n",
    "for t in tqdm(df[\"texto\"]):\n",
    "    X.append(get_cls_embedding(t))\n",
    "\n",
    "X = np.array(X)"
   ]
  },
  {
   "cell_type": "markdown",
   "id": "168b38c3",
   "metadata": {},
   "source": [
    "Entrenar el Random Forest"
   ]
  },
  {
   "cell_type": "code",
   "execution_count": 19,
   "id": "39860771",
   "metadata": {},
   "outputs": [
    {
     "name": "stdout",
     "output_type": "stream",
     "text": [
      "              precision    recall  f1-score   support\n",
      "\n",
      "      humano       0.93      0.93      0.93        14\n",
      "          ia       0.95      0.95      0.95        21\n",
      "\n",
      "    accuracy                           0.94        35\n",
      "   macro avg       0.94      0.94      0.94        35\n",
      "weighted avg       0.94      0.94      0.94        35\n",
      "\n"
     ]
    }
   ],
   "source": [
    "from sklearn.ensemble import RandomForestClassifier\n",
    "from sklearn.model_selection import train_test_split\n",
    "from sklearn.metrics import classification_report\n",
    "\n",
    "# Convertir las clases a números\n",
    "y = df[\"clase\"].astype(\"category\").cat.codes\n",
    "\n",
    "# Dividir\n",
    "X_train, X_test, y_train, y_test = train_test_split(X, y, test_size=0.2, random_state=42)\n",
    "\n",
    "# Entrenar el modelo\n",
    "clf = RandomForestClassifier(n_estimators=100, random_state=42)\n",
    "clf.fit(X_train, y_train)\n",
    "\n",
    "# Evaluar\n",
    "y_pred = clf.predict(X_test)\n",
    "print(classification_report(y_test, y_pred, target_names=df[\"clase\"].astype(\"category\").cat.categories))\n"
   ]
  },
  {
   "cell_type": "markdown",
   "id": "da67c7c0",
   "metadata": {},
   "source": [
    "Métricas y visualización"
   ]
  },
  {
   "cell_type": "code",
   "execution_count": 20,
   "id": "6ebeb911",
   "metadata": {},
   "outputs": [
    {
     "data": {
      "image/png": "[encoded data removed]",
      "text/plain": [
       "<Figure size 600x600 with 2 Axes>"
      ]
     },
     "metadata": {},
     "output_type": "display_data"
    },
    {
     "data": {
      "text/html": [
       "<div>\n",
       "<style scoped>\n",
       "    .dataframe tbody tr th:only-of-type {\n",
       "        vertical-align: middle;\n",
       "    }\n",
       "\n",
       "    .dataframe tbody tr th {\n",
       "        vertical-align: top;\n",
       "    }\n",
       "\n",
       "    .dataframe thead th {\n",
       "        text-align: right;\n",
       "    }\n",
       "</style>\n",
       "<table border=\"1\" class=\"dataframe\">\n",
       "  <thead>\n",
       "    <tr style=\"text-align: right;\">\n",
       "      <th></th>\n",
       "      <th>precision</th>\n",
       "      <th>recall</th>\n",
       "      <th>f1-score</th>\n",
       "      <th>support</th>\n",
       "    </tr>\n",
       "  </thead>\n",
       "  <tbody>\n",
       "    <tr>\n",
       "      <th>humano</th>\n",
       "      <td>0.928571</td>\n",
       "      <td>0.928571</td>\n",
       "      <td>0.928571</td>\n",
       "      <td>14.000000</td>\n",
       "    </tr>\n",
       "    <tr>\n",
       "      <th>ia</th>\n",
       "      <td>0.952381</td>\n",
       "      <td>0.952381</td>\n",
       "      <td>0.952381</td>\n",
       "      <td>21.000000</td>\n",
       "    </tr>\n",
       "    <tr>\n",
       "      <th>accuracy</th>\n",
       "      <td>0.942857</td>\n",
       "      <td>0.942857</td>\n",
       "      <td>0.942857</td>\n",
       "      <td>0.942857</td>\n",
       "    </tr>\n",
       "    <tr>\n",
       "      <th>macro avg</th>\n",
       "      <td>0.940476</td>\n",
       "      <td>0.940476</td>\n",
       "      <td>0.940476</td>\n",
       "      <td>35.000000</td>\n",
       "    </tr>\n",
       "    <tr>\n",
       "      <th>weighted avg</th>\n",
       "      <td>0.942857</td>\n",
       "      <td>0.942857</td>\n",
       "      <td>0.942857</td>\n",
       "      <td>35.000000</td>\n",
       "    </tr>\n",
       "  </tbody>\n",
       "</table>\n",
       "</div>"
      ],
      "text/plain": [
       "              precision    recall  f1-score    support\n",
       "humano         0.928571  0.928571  0.928571  14.000000\n",
       "ia             0.952381  0.952381  0.952381  21.000000\n",
       "accuracy       0.942857  0.942857  0.942857   0.942857\n",
       "macro avg      0.940476  0.940476  0.940476  35.000000\n",
       "weighted avg   0.942857  0.942857  0.942857  35.000000"
      ]
     },
     "metadata": {},
     "output_type": "display_data"
    },
    {
     "data": {
      "image/png": "[encoded data removed]",
      "text/plain": [
       "<Figure size 800x400 with 1 Axes>"
      ]
     },
     "metadata": {},
     "output_type": "display_data"
    }
   ],
   "source": [
    "import matplotlib.pyplot as plt\n",
    "import pandas as pd\n",
    "import seaborn as sns\n",
    "from sklearn.metrics import confusion_matrix, classification_report, ConfusionMatrixDisplay\n",
    "\n",
    "# Si seguiste el flujo anterior, ya tienes esto:\n",
    "# - y_test: etiquetas verdaderas\n",
    "# - y_pred: etiquetas predichas por el modelo\n",
    "# - df: DataFrame original con la columna \"clase\"\n",
    "\n",
    "# Obtener nombres de clase en orden correcto\n",
    "class_names = df[\"clase\"].astype(\"category\").cat.categories.tolist()\n",
    "\n",
    "# Matriz de Confusión\n",
    "cm = confusion_matrix(y_test, y_pred)\n",
    "disp = ConfusionMatrixDisplay(confusion_matrix=cm, display_labels=class_names)\n",
    "fig, ax = plt.subplots(figsize=(6, 6))\n",
    "disp.plot(cmap=plt.cm.Blues, ax=ax, values_format='d')\n",
    "plt.title(\"Matriz de Confusión\")\n",
    "plt.show()\n",
    "\n",
    "# Informe de Clasificación\n",
    "report = classification_report(y_test, y_pred, target_names=class_names, output_dict=True)\n",
    "report_df = pd.DataFrame(report).transpose()\n",
    "\n",
    "# Mostrar tabla de métricas\n",
    "display(report_df)\n",
    "\n",
    "# Visualizar precision, recall y f1-score\n",
    "plt.figure(figsize=(8, 4))\n",
    "sns.heatmap(report_df.iloc[:len(class_names), :3], annot=True, fmt=\".2f\", cmap=\"YlGnBu\", cbar=False)\n",
    "plt.title(\"Métricas por clase (precision, recall, f1-score)\")\n",
    "plt.yticks(rotation=0)\n",
    "plt.show()"
   ]
  },
  {
   "cell_type": "markdown",
   "id": "3a0b285e",
   "metadata": {},
   "source": [
    "📊 Matriz de confusión\n",
    "Predicho: humano\tPredicho: ia\n",
    "Real: humano\t13\t1\n",
    "Real: ia\t1\t20\n",
    "\n",
    "Esto significa:\n",
    "\n",
    "Solo 2 errores en total (1 falso positivo y 1 falso negativo).\n",
    "\n",
    "El resto, bien clasificado.\n",
    "\n",
    "📈 Métricas por clase\n",
    "Clase\tPrecision\tRecall\tF1-score\n",
    "humano\t0.93\t0.93\t0.93\n",
    "ia\t0.95\t0.95\t0.95\n",
    "\n",
    "Accuracy global: 94.3%\n",
    "\n",
    "🧠 Interpretación rápida:\n",
    "Tu modelo distingue muy bien entre textos generados por IA y humanos.\n",
    "\n",
    "Está equilibrado en precisión y recall, lo cual es perfecto para este tipo de problema.\n",
    "\n",
    "No está sobreajustado a una sola clase, lo que también es una buena señal."
   ]
  },
  {
   "cell_type": "markdown",
   "id": "751ee804",
   "metadata": {},
   "source": [
    "---------------------------------"
   ]
  },
  {
   "cell_type": "markdown",
   "id": "b707f9a7",
   "metadata": {},
   "source": [
    "Guardar el modelo"
   ]
  },
  {
   "cell_type": "code",
   "execution_count": 24,
   "id": "f3beea80",
   "metadata": {},
   "outputs": [
    {
     "data": {
      "text/plain": [
       "['modelo_random_forest_entrenado.pkl']"
      ]
     },
     "execution_count": 24,
     "metadata": {},
     "output_type": "execute_result"
    }
   ],
   "source": [
    "import joblib\n",
    "\n",
    "# Guardar el modelo entrenado (por ejemplo, RandomForestClassifier)\n",
    "joblib.dump(clf, \"modelo_random_forest_entrenado.pkl\")"
   ]
  }
 ],
 "metadata": {
  "kernelspec": {
   "display_name": "venv",
   "language": "python",
   "name": "python3"
  },
  "language_info": {
   "codemirror_mode": {
    "name": "ipython",
    "version": 3
   },
   "file_extension": ".py",
   "mimetype": "text/x-python",
   "name": "python",
   "nbconvert_exporter": "python",
   "pygments_lexer": "ipython3",
   "version": "3.12.3"
  }
 },
 "nbformat": 4,
 "nbformat_minor": 5
}
